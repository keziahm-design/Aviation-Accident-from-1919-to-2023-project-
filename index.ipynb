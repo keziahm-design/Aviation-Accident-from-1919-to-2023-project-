{
 "cells": [
  {
   "cell_type": "markdown",
   "id": "a61fa093",
   "metadata": {},
   "source": [
    "AVIATION ACCIDENTS FROM 1919 TO 2023"
   ]
  },
  {
   "cell_type": "markdown",
   "id": "f6a918cb",
   "metadata": {},
   "source": [
    "Problem Statment: \n",
    "\n",
    "reason for the increased amount of plane accidents and how to resolve the issues,plane type with most amount and those with the list of accidents inorder to start a new aircraft business"
   ]
  },
  {
   "cell_type": "markdown",
   "id": "165a02fc",
   "metadata": {},
   "source": [
    "Solution:\n",
    "\n",
    "identify the cause of every accident that occured within that period and establish a permanent solution for example avoiding places with a bad wether condition to prevent crashing of the planes,\n",
    " avoiding places with high rate of insecurities or increasing security messures to avoid cases like highjacking of the planes and many otheres.\n",
    " identifying the plane type with most amount of accidents inorder to avoid buying them and we pick those with the list amount of accidents.\n"
   ]
  },
  {
   "cell_type": "markdown",
   "id": "4306cd99",
   "metadata": {},
   "source": [
    "Objectives:\n",
    "\n",
    "we will be able to identify ;\n",
    "the cause of the accidents.\n",
    "the place with most amount of accidents.\n",
    "the number of survivals and nonsurvivals in each category of the accidents.\n"
   ]
  },
  {
   "cell_type": "markdown",
   "id": "a8173ba2",
   "metadata": {},
   "source": [
    "Data Defination\n",
    "\n",
    "the dataset contains different dates of when the accidents occured between the year 1919-2023,the type and the operation of the planes involved in the accidents,the areas in which the accidents occured,the fatality involved in each accident,the category in which each accident was involved and the survival rate in each category of the accidents."
   ]
  },
  {
   "cell_type": "markdown",
   "id": "aaef4943",
   "metadata": {},
   "source": [
    "Data Cleaning"
   ]
  },
  {
   "cell_type": "code",
   "execution_count": 2,
   "id": "f41ed300",
   "metadata": {},
   "outputs": [
    {
     "data": {
      "text/html": [
       "<div>\n",
       "<style scoped>\n",
       "    .dataframe tbody tr th:only-of-type {\n",
       "        vertical-align: middle;\n",
       "    }\n",
       "\n",
       "    .dataframe tbody tr th {\n",
       "        vertical-align: top;\n",
       "    }\n",
       "\n",
       "    .dataframe thead th {\n",
       "        text-align: right;\n",
       "    }\n",
       "</style>\n",
       "<table border=\"1\" class=\"dataframe\">\n",
       "  <thead>\n",
       "    <tr style=\"text-align: right;\">\n",
       "      <th></th>\n",
       "      <th>date</th>\n",
       "      <th>type</th>\n",
       "      <th>registration</th>\n",
       "      <th>operator</th>\n",
       "      <th>fatalities</th>\n",
       "      <th>location</th>\n",
       "      <th>country</th>\n",
       "      <th>cat</th>\n",
       "      <th>year</th>\n",
       "    </tr>\n",
       "  </thead>\n",
       "  <tbody>\n",
       "    <tr>\n",
       "      <th>0</th>\n",
       "      <td>date unk.</td>\n",
       "      <td>Antonov An-12B</td>\n",
       "      <td>T-1206</td>\n",
       "      <td>Indonesian AF</td>\n",
       "      <td>NaN</td>\n",
       "      <td>NaN</td>\n",
       "      <td>Unknown country</td>\n",
       "      <td>U1</td>\n",
       "      <td>unknown</td>\n",
       "    </tr>\n",
       "    <tr>\n",
       "      <th>1</th>\n",
       "      <td>date unk.</td>\n",
       "      <td>Antonov An-12B</td>\n",
       "      <td>T-1204</td>\n",
       "      <td>Indonesian AF</td>\n",
       "      <td>NaN</td>\n",
       "      <td>NaN</td>\n",
       "      <td>Unknown country</td>\n",
       "      <td>U1</td>\n",
       "      <td>unknown</td>\n",
       "    </tr>\n",
       "    <tr>\n",
       "      <th>2</th>\n",
       "      <td>date unk.</td>\n",
       "      <td>Antonov An-12B</td>\n",
       "      <td>T-1201</td>\n",
       "      <td>Indonesian AF</td>\n",
       "      <td>NaN</td>\n",
       "      <td>NaN</td>\n",
       "      <td>Unknown country</td>\n",
       "      <td>U1</td>\n",
       "      <td>unknown</td>\n",
       "    </tr>\n",
       "    <tr>\n",
       "      <th>3</th>\n",
       "      <td>date unk.</td>\n",
       "      <td>Antonov An-12BK</td>\n",
       "      <td>NaN</td>\n",
       "      <td>Soviet AF</td>\n",
       "      <td>NaN</td>\n",
       "      <td>Tiksi Airport (IKS)</td>\n",
       "      <td>Russia</td>\n",
       "      <td>A1</td>\n",
       "      <td>unknown</td>\n",
       "    </tr>\n",
       "    <tr>\n",
       "      <th>4</th>\n",
       "      <td>date unk.</td>\n",
       "      <td>Antonov An-12BP</td>\n",
       "      <td>CCCP-11815</td>\n",
       "      <td>Soviet AF</td>\n",
       "      <td>0</td>\n",
       "      <td>Massawa Airport ...</td>\n",
       "      <td>Eritrea</td>\n",
       "      <td>A1</td>\n",
       "      <td>unknown</td>\n",
       "    </tr>\n",
       "  </tbody>\n",
       "</table>\n",
       "</div>"
      ],
      "text/plain": [
       "        date             type registration       operator fatalities  \\\n",
       "0  date unk.   Antonov An-12B       T-1206  Indonesian AF        NaN   \n",
       "1  date unk.   Antonov An-12B       T-1204  Indonesian AF        NaN   \n",
       "2  date unk.   Antonov An-12B       T-1201  Indonesian AF        NaN   \n",
       "3  date unk.  Antonov An-12BK          NaN      Soviet AF        NaN   \n",
       "4  date unk.  Antonov An-12BP   CCCP-11815      Soviet AF          0   \n",
       "\n",
       "              location          country cat     year  \n",
       "0                  NaN  Unknown country  U1  unknown  \n",
       "1                  NaN  Unknown country  U1  unknown  \n",
       "2                  NaN  Unknown country  U1  unknown  \n",
       "3  Tiksi Airport (IKS)           Russia  A1  unknown  \n",
       "4  Massawa Airport ...          Eritrea  A1  unknown  "
      ]
     },
     "execution_count": 2,
     "metadata": {},
     "output_type": "execute_result"
    }
   ],
   "source": [
    "#importing pandas\n",
    "import pandas as pd\n",
    "# importing the dataset\n",
    "df_accidents=pd.read_csv(\"./aviation-accident-data-2023-05-16.csv\")\n",
    "# use .head() inorder to get access to the 1st few rows of the dataset\n",
    "df_accidents.head()"
   ]
  },
  {
   "cell_type": "code",
   "execution_count": 3,
   "id": "141f9578",
   "metadata": {},
   "outputs": [
    {
     "name": "stdout",
     "output_type": "stream",
     "text": [
      "<class 'pandas.core.frame.DataFrame'>\n",
      "RangeIndex: 23967 entries, 0 to 23966\n",
      "Data columns (total 9 columns):\n",
      " #   Column        Non-Null Count  Dtype \n",
      "---  ------        --------------  ----- \n",
      " 0   date          23967 non-null  object\n",
      " 1   type          23967 non-null  object\n",
      " 2   registration  22419 non-null  object\n",
      " 3   operator      23963 non-null  object\n",
      " 4   fatalities    20029 non-null  object\n",
      " 5   location      23019 non-null  object\n",
      " 6   country       23967 non-null  object\n",
      " 7   cat           23967 non-null  object\n",
      " 8   year          23967 non-null  object\n",
      "dtypes: object(9)\n",
      "memory usage: 1.6+ MB\n"
     ]
    }
   ],
   "source": [
    "#using .info() to get a summary of the dataframe and also enable us to identify the columns with missing data\n",
    "df_accidents.info()"
   ]
  },
  {
   "cell_type": "markdown",
   "id": "a481576d",
   "metadata": {},
   "source": [
    "in the above we identify that the dataset has 9columns,23967 rows,23966 indexs and the columns contain strings. \n",
    "To iddentfy missing data \n",
    "the columns registration,operator,fatalities and location all have missing data since their non-null values don't add up to the total number of colums which is 23967.\n"
   ]
  },
  {
   "cell_type": "code",
   "execution_count": 4,
   "id": "2c6e0159",
   "metadata": {},
   "outputs": [
    {
     "data": {
      "text/plain": [
       "date               0\n",
       "type               0\n",
       "registration    1548\n",
       "operator           4\n",
       "fatalities      3938\n",
       "location         948\n",
       "country            0\n",
       "cat                0\n",
       "year               0\n",
       "dtype: int64"
      ]
     },
     "execution_count": 4,
     "metadata": {},
     "output_type": "execute_result"
    }
   ],
   "source": [
    "#ditecting NaNs\n",
    "df_accidents.isna().sum()"
   ]
  },
  {
   "cell_type": "code",
   "execution_count": 5,
   "id": "57fad0c2",
   "metadata": {},
   "outputs": [
    {
     "data": {
      "text/plain": [
       "date            0\n",
       "type            0\n",
       "registration    0\n",
       "operator        0\n",
       "fatalities      0\n",
       "location        0\n",
       "country         0\n",
       "cat             0\n",
       "year            0\n",
       "dtype: int64"
      ]
     },
     "execution_count": 5,
     "metadata": {},
     "output_type": "execute_result"
    }
   ],
   "source": [
    "#filling the missing values using .fillna() \n",
    "missing_cols=['registration','operator','fatalities','location']\n",
    "df_accidents[missing_cols]=df_accidents[missing_cols].fillna('Unknown')\n",
    "df_accidents.isna().sum()"
   ]
  },
  {
   "cell_type": "code",
   "execution_count": 6,
   "id": "3a83168a",
   "metadata": {},
   "outputs": [
    {
     "data": {
      "text/plain": [
       "False    23852\n",
       "True       115\n",
       "dtype: int64"
      ]
     },
     "execution_count": 6,
     "metadata": {},
     "output_type": "execute_result"
    }
   ],
   "source": [
    "#to find if there are any duplicates and how many they are in the dataset\n",
    "#true means duplicate and false means not a duplicate\n",
    "df_accidents.duplicated().value_counts()"
   ]
  },
  {
   "cell_type": "code",
   "execution_count": 7,
   "id": "90efb643",
   "metadata": {},
   "outputs": [
    {
     "data": {
      "text/plain": [
       "False    23852\n",
       "dtype: int64"
      ]
     },
     "execution_count": 7,
     "metadata": {},
     "output_type": "execute_result"
    }
   ],
   "source": [
    "#using .drop_duplicates() to remove duplicates\n",
    "#after using .drop_duplicates() we can see that there are no more duplicates in the dataset\n",
    "df_accidents=df_accidents.drop_duplicates()\n",
    "df_accidents.duplicated().value_counts()"
   ]
  },
  {
   "cell_type": "code",
   "execution_count": 8,
   "id": "5e81565a",
   "metadata": {},
   "outputs": [],
   "source": [
    "# to save the cleaned dataset to a new csv file\n",
    "df_accidents.to_csv(\"cleaned_aviation_accident_data.csv\", index=False)"
   ]
  },
  {
   "cell_type": "markdown",
   "id": "4d9eae0b",
   "metadata": {},
   "source": [
    "Data Analysis"
   ]
  },
  {
   "cell_type": "code",
   "execution_count": 9,
   "id": "7b2792fb",
   "metadata": {},
   "outputs": [],
   "source": [
    "# importing numpy\n",
    "import numpy as np\n",
    "#importing pandas\n",
    "import pandas as pd\n",
    "#loading the data\n",
    "df_accidents=pd.read_csv(\"./cleaned_aviation_accident_data.csv\")"
   ]
  },
  {
   "cell_type": "code",
   "execution_count": 10,
   "id": "4ed4f413",
   "metadata": {},
   "outputs": [
    {
     "data": {
      "text/html": [
       "<div>\n",
       "<style scoped>\n",
       "    .dataframe tbody tr th:only-of-type {\n",
       "        vertical-align: middle;\n",
       "    }\n",
       "\n",
       "    .dataframe tbody tr th {\n",
       "        vertical-align: top;\n",
       "    }\n",
       "\n",
       "    .dataframe thead th {\n",
       "        text-align: right;\n",
       "    }\n",
       "</style>\n",
       "<table border=\"1\" class=\"dataframe\">\n",
       "  <thead>\n",
       "    <tr style=\"text-align: right;\">\n",
       "      <th></th>\n",
       "      <th>date</th>\n",
       "      <th>type</th>\n",
       "      <th>registration</th>\n",
       "      <th>operator</th>\n",
       "      <th>fatalities</th>\n",
       "      <th>location</th>\n",
       "      <th>country</th>\n",
       "      <th>cat</th>\n",
       "      <th>year</th>\n",
       "    </tr>\n",
       "  </thead>\n",
       "  <tbody>\n",
       "    <tr>\n",
       "      <th>0</th>\n",
       "      <td>date unk.</td>\n",
       "      <td>Antonov An-12B</td>\n",
       "      <td>T-1206</td>\n",
       "      <td>Indonesian AF</td>\n",
       "      <td>Unknown</td>\n",
       "      <td>Unknown</td>\n",
       "      <td>Unknown country</td>\n",
       "      <td>U1</td>\n",
       "      <td>unknown</td>\n",
       "    </tr>\n",
       "    <tr>\n",
       "      <th>1</th>\n",
       "      <td>date unk.</td>\n",
       "      <td>Antonov An-12B</td>\n",
       "      <td>T-1204</td>\n",
       "      <td>Indonesian AF</td>\n",
       "      <td>Unknown</td>\n",
       "      <td>Unknown</td>\n",
       "      <td>Unknown country</td>\n",
       "      <td>U1</td>\n",
       "      <td>unknown</td>\n",
       "    </tr>\n",
       "    <tr>\n",
       "      <th>2</th>\n",
       "      <td>date unk.</td>\n",
       "      <td>Antonov An-12B</td>\n",
       "      <td>T-1201</td>\n",
       "      <td>Indonesian AF</td>\n",
       "      <td>Unknown</td>\n",
       "      <td>Unknown</td>\n",
       "      <td>Unknown country</td>\n",
       "      <td>U1</td>\n",
       "      <td>unknown</td>\n",
       "    </tr>\n",
       "    <tr>\n",
       "      <th>3</th>\n",
       "      <td>date unk.</td>\n",
       "      <td>Antonov An-12BK</td>\n",
       "      <td>Unknown</td>\n",
       "      <td>Soviet AF</td>\n",
       "      <td>Unknown</td>\n",
       "      <td>Tiksi Airport (IKS)</td>\n",
       "      <td>Russia</td>\n",
       "      <td>A1</td>\n",
       "      <td>unknown</td>\n",
       "    </tr>\n",
       "    <tr>\n",
       "      <th>4</th>\n",
       "      <td>date unk.</td>\n",
       "      <td>Antonov An-12BP</td>\n",
       "      <td>CCCP-11815</td>\n",
       "      <td>Soviet AF</td>\n",
       "      <td>0</td>\n",
       "      <td>Massawa Airport ...</td>\n",
       "      <td>Eritrea</td>\n",
       "      <td>A1</td>\n",
       "      <td>unknown</td>\n",
       "    </tr>\n",
       "  </tbody>\n",
       "</table>\n",
       "</div>"
      ],
      "text/plain": [
       "        date             type registration       operator fatalities  \\\n",
       "0  date unk.   Antonov An-12B       T-1206  Indonesian AF    Unknown   \n",
       "1  date unk.   Antonov An-12B       T-1204  Indonesian AF    Unknown   \n",
       "2  date unk.   Antonov An-12B       T-1201  Indonesian AF    Unknown   \n",
       "3  date unk.  Antonov An-12BK      Unknown      Soviet AF    Unknown   \n",
       "4  date unk.  Antonov An-12BP   CCCP-11815      Soviet AF          0   \n",
       "\n",
       "              location          country cat     year  \n",
       "0              Unknown  Unknown country  U1  unknown  \n",
       "1              Unknown  Unknown country  U1  unknown  \n",
       "2              Unknown  Unknown country  U1  unknown  \n",
       "3  Tiksi Airport (IKS)           Russia  A1  unknown  \n",
       "4  Massawa Airport ...          Eritrea  A1  unknown  "
      ]
     },
     "execution_count": 10,
     "metadata": {},
     "output_type": "execute_result"
    }
   ],
   "source": [
    "df_accidents.head()"
   ]
  },
  {
   "cell_type": "code",
   "execution_count": 11,
   "id": "940c3d6d",
   "metadata": {},
   "outputs": [
    {
     "name": "stdout",
     "output_type": "stream",
     "text": [
      "<class 'pandas.core.frame.DataFrame'>\n",
      "RangeIndex: 23852 entries, 0 to 23851\n",
      "Data columns (total 9 columns):\n",
      " #   Column        Non-Null Count  Dtype \n",
      "---  ------        --------------  ----- \n",
      " 0   date          23852 non-null  object\n",
      " 1   type          23852 non-null  object\n",
      " 2   registration  23852 non-null  object\n",
      " 3   operator      23852 non-null  object\n",
      " 4   fatalities    23852 non-null  object\n",
      " 5   location      23852 non-null  object\n",
      " 6   country       23852 non-null  object\n",
      " 7   cat           23852 non-null  object\n",
      " 8   year          23852 non-null  object\n",
      "dtypes: object(9)\n",
      "memory usage: 1.6+ MB\n"
     ]
    }
   ],
   "source": [
    "df_accidents.info()"
   ]
  },
  {
   "cell_type": "code",
   "execution_count": 12,
   "id": "45cd6ca1",
   "metadata": {},
   "outputs": [
    {
     "data": {
      "text/plain": [
       "3201"
      ]
     },
     "execution_count": 12,
     "metadata": {},
     "output_type": "execute_result"
    }
   ],
   "source": [
    "#to find unique count in plane type\n",
    "df_accidents[\"type\"].nunique()"
   ]
  },
  {
   "cell_type": "code",
   "execution_count": 13,
   "id": "5530eb77",
   "metadata": {},
   "outputs": [
    {
     "data": {
      "text/plain": [
       "6017"
      ]
     },
     "execution_count": 13,
     "metadata": {},
     "output_type": "execute_result"
    }
   ],
   "source": [
    "#to find unique count in operator\n",
    "df_accidents[\"operator\"].nunique()"
   ]
  },
  {
   "cell_type": "code",
   "execution_count": 14,
   "id": "fe2b0af4",
   "metadata": {},
   "outputs": [
    {
     "data": {
      "text/plain": [
       "14608"
      ]
     },
     "execution_count": 14,
     "metadata": {},
     "output_type": "execute_result"
    }
   ],
   "source": [
    "#to find unique count in location of the accidents\n",
    "df_accidents[\"location\"].nunique()"
   ]
  },
  {
   "cell_type": "markdown",
   "id": "8874e1d5",
   "metadata": {},
   "source": [
    "plotting of graphs in order to know the rate at which the accidents occur in a spean of one year or 12 months.in order to beable to do this we have to import matplotlib"
   ]
  },
  {
   "cell_type": "code",
   "execution_count": 15,
   "id": "9f9e2db0",
   "metadata": {},
   "outputs": [],
   "source": [
    "import matplotlib.pyplot as plt\n",
    "%matplotlib inline\n"
   ]
  },
  {
   "cell_type": "code",
   "execution_count": 16,
   "id": "c6808562",
   "metadata": {},
   "outputs": [
    {
     "data": {
      "image/png": "[encoded data removed]",
      "text/plain": [
       "<Figure size 864x360 with 1 Axes>"
      ]
     },
     "metadata": {
      "needs_background": "light"
     },
     "output_type": "display_data"
    }
   ],
   "source": [
    "#the rate at which accidents occured in the 1st 10 years\n",
    "df_accidents['date']=pd.to_datetime(df_accidents['date'], errors='coerce')\n",
    "df_accidents['year']=df_accidents['date'].dt.year\n",
    "df_accidents['month']=df_accidents['date'].dt.month\n",
    "df_accidents_per_year=df_accidents['year'].value_counts().head(10)\n",
    "plt.figure(figsize=(12,5))\n",
    "df_accidents_per_year.plot(kind='bar')\n",
    "plt.title('accidents per year')\n",
    "plt.xlabel('year')\n",
    "plt.ylabel('number of accidents')\n",
    "plt.show()"
   ]
  },
  {
   "cell_type": "code",
   "execution_count": 17,
   "id": "31af34c2",
   "metadata": {},
   "outputs": [
    {
     "data": {
      "image/png": "[encoded data removed]",
      "text/plain": [
       "<Figure size 864x360 with 1 Axes>"
      ]
     },
     "metadata": {
      "needs_background": "light"
     },
     "output_type": "display_data"
    }
   ],
   "source": [
    "# top 10 plane types involved in the accidents\n",
    "df_accidents_type=df_accidents['type'].value_counts().head(10)\n",
    "plt.figure(figsize=(12,5))\n",
    "df_accidents_type.plot(kind='bar')\n",
    "plt.title('Top 10 plane types involved in accidents')\n",
    "plt.xlabel('plane type')\n",
    "plt.ylabel('number of accidents')\n",
    "plt.show()"
   ]
  },
  {
   "cell_type": "code",
   "execution_count": 18,
   "id": "e243cd1b",
   "metadata": {},
   "outputs": [
    {
     "data": {
      "image/png": "[encoded data removed]",
      "text/plain": [
       "<Figure size 864x360 with 1 Axes>"
      ]
     },
     "metadata": {
      "needs_background": "light"
     },
     "output_type": "display_data"
    }
   ],
   "source": [
    "#plain type with list amount of accidents\n",
    "df_accidents_type_least=df_accidents['type'].value_counts().tail(10)\n",
    "plt.figure(figsize=(12,5))\n",
    "df_accidents_type_least.plot(kind='bar')\n",
    "plt.title('Plain type with least amount of accidents')\n",
    "plt.xlabel('plane type')\n",
    "plt.ylabel('number of accidents')\n",
    "plt.show()"
   ]
  },
  {
   "cell_type": "code",
   "execution_count": 19,
   "id": "e84374dd",
   "metadata": {},
   "outputs": [
    {
     "data": {
      "image/png": "[encoded data removed]",
      "text/plain": [
       "<Figure size 864x360 with 1 Axes>"
      ]
     },
     "metadata": {
      "needs_background": "light"
     },
     "output_type": "display_data"
    }
   ],
   "source": [
    "# to know the top location where the accidents occured\n",
    "df_accidents_location=df_accidents['location'].value_counts().head(15)\n",
    "plt.figure(figsize=(12,5))\n",
    "df_accidents_location.plot(kind='bar')\n",
    "plt.title('Top 10 locations where accidents occured')\n",
    "plt.xlabel('location')\n",
    "plt.ylabel('number of accidents')\n",
    "plt.show()"
   ]
  },
  {
   "cell_type": "code",
   "execution_count": null,
   "id": "4324e532",
   "metadata": {},
   "outputs": [
    {
     "data": {
      "image/png": "[encoded data removed]",
      "text/plain": [
       "<Figure size 864x360 with 1 Axes>"
      ]
     },
     "metadata": {
      "needs_background": "light"
     },
     "output_type": "display_data"
    }
   ],
   "source": [
    "#in order to find the fatality with most accidents\n",
    "df_accidents_fatalities=df_accidents['fatalities'].value_counts().head(10)\n",
    "plt.figure(figsize=(12,5))\n",
    "df_accidents_fatalities.plot(kind='bar')\n",
    "plt.title('Top 10 fatalities with most accidents')\n",
    "plt.xlabel('fatalities')\n",
    "plt.ylabel('number of accidents')\n",
    "plt.show()"
   ]
  },
  {
   "cell_type": "markdown",
   "id": "782371f4",
   "metadata": {},
   "source": [
    "Recommendation\n",
    "\n",
    "increase security measures to prevent highjacking cases.\n",
    "always ensure that the plane is well serviced before any take off.\n",
    "avoid places with bad weather condition to avoid accidents caused by weather.\n",
    "avoid plane type with high amount of accidents such as douglas C and pick those with least amount of accidents.\n"
   ]
  },
  {
   "cell_type": "markdown",
   "id": "a3acade1",
   "metadata": {},
   "source": [
    "Conclusion\n",
    "\n",
    "buy planes such as EMB-500 legacy 500 ,cessna 208 cargomaster & boeing 757-3E7 since they have least amount of accidents.\n",
    "this data shows that most accident occur in the unknown places,plane type douglas C has the most amount of accidents,there were 0 death in most of the accidents in this dataset.there were few major deaths in this dataset."
   ]
  }
 ],
 "metadata": {
  "kernelspec": {
   "display_name": "learn-env",
   "language": "python",
   "name": "python3"
  },
  "language_info": {
   "codemirror_mode": {
    "name": "ipython",
    "version": 3
   },
   "file_extension": ".py",
   "mimetype": "text/x-python",
   "name": "python",
   "nbconvert_exporter": "python",
   "pygments_lexer": "ipython3",
   "version": "3.8.5"
  }
 },
 "nbformat": 4,
 "nbformat_minor": 5
}
